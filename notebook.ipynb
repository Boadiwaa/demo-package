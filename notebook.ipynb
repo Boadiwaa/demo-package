{
 "cells": [
  {
   "cell_type": "markdown",
   "metadata": {},
   "source": [
    "# acsefunctions Documentation"
   ]
  },
  {
   "cell_type": "markdown",
   "metadata": {},
   "source": [
    "## Overview"
   ]
  },
  {
   "cell_type": "markdown",
   "metadata": {},
   "source": [
    "This notebook provides documentation for `acsefunctions`, which consists of 2 modules: taylors_series and bessel_group used for trigonometric and Bessel functions respectively, for use on scalar and numpy array objects. The trigonometric functions were created using Taylors series. The Bessel function was implemented based on Euler’s definition."
   ]
  },
  {
   "cell_type": "markdown",
   "metadata": {},
   "source": [
    "## Installation"
   ]
  },
  {
   "cell_type": "markdown",
   "metadata": {},
   "source": [
    "To install `acsefunctions` in editable mode:\n",
    "\n",
    "- Ensure that you have pip, git and conda installed\n",
    "- Open a shell/terminal window and navigate to the directory you want this installed in\n",
    "- Use the command `git clone https://github.com/ese-ada-lovelace-2024/mpm-assessment-1-esemsc-pbm24.git`\n",
    "- Create an environment using `conda env create -f environment.yml`\n",
    "- Activate the environment using `conda activate acsepackageenvironment`\n",
    "- Use the command `pip install -e .` to install the package."
   ]
  },
  {
   "cell_type": "markdown",
   "metadata": {},
   "source": [
    "## Functions in the package with examples"
   ]
  },
  {
   "cell_type": "markdown",
   "metadata": {},
   "source": [
    "### taylors_series module"
   ]
  },
  {
   "cell_type": "markdown",
   "metadata": {},
   "source": [
    "`acsefunctions.taylors_series.trig_functions.cosh(x, terms=20)`"
   ]
  },
  {
   "cell_type": "code",
   "execution_count": 2,
   "metadata": {},
   "outputs": [],
   "source": [
    "from acsefunctions.taylors_series.trig_functions import cosh"
   ]
  },
  {
   "cell_type": "code",
   "execution_count": 3,
   "metadata": {},
   "outputs": [
    {
     "data": {
      "text/plain": [
       "array(1.54308063)"
      ]
     },
     "execution_count": 3,
     "metadata": {},
     "output_type": "execute_result"
    }
   ],
   "source": [
    "cosh(1)"
   ]
  },
  {
   "cell_type": "code",
   "execution_count": 4,
   "metadata": {},
   "outputs": [
    {
     "data": {
      "text/plain": [
       "array(1.)"
      ]
     },
     "execution_count": 4,
     "metadata": {},
     "output_type": "execute_result"
    }
   ],
   "source": [
    "cosh(0)"
   ]
  },
  {
   "cell_type": "markdown",
   "metadata": {},
   "source": [
    "`acsefunctions.taylors_series.trig_functions.sinh(x, terms=20)`"
   ]
  },
  {
   "cell_type": "code",
   "execution_count": 5,
   "metadata": {},
   "outputs": [],
   "source": [
    "from acsefunctions.taylors_series.trig_functions import sinh"
   ]
  },
  {
   "cell_type": "code",
   "execution_count": 6,
   "metadata": {},
   "outputs": [
    {
     "data": {
      "text/plain": [
       "array(0.)"
      ]
     },
     "execution_count": 6,
     "metadata": {},
     "output_type": "execute_result"
    }
   ],
   "source": [
    "sinh(0)"
   ]
  },
  {
   "cell_type": "code",
   "execution_count": 7,
   "metadata": {},
   "outputs": [
    {
     "data": {
      "text/plain": [
       "array(1.75617789e+29)"
      ]
     },
     "execution_count": 7,
     "metadata": {},
     "output_type": "execute_result"
    }
   ],
   "source": [
    "sinh(90)"
   ]
  },
  {
   "cell_type": "markdown",
   "metadata": {},
   "source": [
    "`acsefunctions.taylors_series.trig_functions.exp(x, terms=20)`"
   ]
  },
  {
   "cell_type": "code",
   "execution_count": 8,
   "metadata": {},
   "outputs": [],
   "source": [
    "from acsefunctions.taylors_series.trig_functions import exp"
   ]
  },
  {
   "cell_type": "code",
   "execution_count": 9,
   "metadata": {},
   "outputs": [
    {
     "data": {
      "text/plain": [
       "array(7.3890561)"
      ]
     },
     "execution_count": 9,
     "metadata": {},
     "output_type": "execute_result"
    }
   ],
   "source": [
    "exp(2.0)"
   ]
  },
  {
   "cell_type": "code",
   "execution_count": 10,
   "metadata": {},
   "outputs": [
    {
     "data": {
      "text/plain": [
       "array(21950.37884943)"
      ]
     },
     "execution_count": 10,
     "metadata": {},
     "output_type": "execute_result"
    }
   ],
   "source": [
    "exp(10.0)"
   ]
  },
  {
   "cell_type": "markdown",
   "metadata": {},
   "source": [
    "`acsefunctions.taylors_series.trig_functions.tanh(x, terms=20)`"
   ]
  },
  {
   "cell_type": "code",
   "execution_count": 11,
   "metadata": {},
   "outputs": [],
   "source": [
    "from acsefunctions.taylors_series.trig_functions import tanh"
   ]
  },
  {
   "cell_type": "code",
   "execution_count": 12,
   "metadata": {},
   "outputs": [
    {
     "data": {
      "text/plain": [
       "np.float64(0.7615941559557649)"
      ]
     },
     "execution_count": 12,
     "metadata": {},
     "output_type": "execute_result"
    }
   ],
   "source": [
    "tanh(1)"
   ]
  },
  {
   "cell_type": "code",
   "execution_count": 13,
   "metadata": {},
   "outputs": [
    {
     "data": {
      "text/plain": [
       "array([0.76159416, 0.96402758, 0.99505475, 0.9993293 , 0.9999092 ])"
      ]
     },
     "execution_count": 13,
     "metadata": {},
     "output_type": "execute_result"
    }
   ],
   "source": [
    "tanh([1.0, 2.0, 3.0, 4.0, 5.0])"
   ]
  },
  {
   "cell_type": "markdown",
   "metadata": {},
   "source": [
    "### bessel_group module"
   ]
  },
  {
   "cell_type": "markdown",
   "metadata": {},
   "source": [
    "`acsefunctions.bessel_group.bessel_function.factorial(n)`"
   ]
  },
  {
   "cell_type": "code",
   "execution_count": 14,
   "metadata": {},
   "outputs": [],
   "source": [
    "from acsefunctions.bessel_group.bessel_function import factorial"
   ]
  },
  {
   "cell_type": "code",
   "execution_count": 15,
   "metadata": {},
   "outputs": [
    {
     "data": {
      "text/plain": [
       "array([1.])"
      ]
     },
     "execution_count": 15,
     "metadata": {},
     "output_type": "execute_result"
    }
   ],
   "source": [
    "factorial(1)"
   ]
  },
  {
   "cell_type": "markdown",
   "metadata": {},
   "source": [
    "factorial([0, 1, 2, 3, 4, 5])"
   ]
  },
  {
   "cell_type": "markdown",
   "metadata": {},
   "source": [
    "`acsefunctions.bessel_group.bessel_function.gamma_function(z)`"
   ]
  },
  {
   "cell_type": "code",
   "execution_count": 16,
   "metadata": {},
   "outputs": [],
   "source": [
    "from acsefunctions.bessel_group.bessel_function import gamma_function"
   ]
  },
  {
   "cell_type": "code",
   "execution_count": 17,
   "metadata": {},
   "outputs": [
    {
     "data": {
      "text/plain": [
       "array([1.05088491, 0.87972523, 0.99916542, 1.32925696, 1.99999916,\n",
       "       6.00000083])"
      ]
     },
     "execution_count": 17,
     "metadata": {},
     "output_type": "execute_result"
    }
   ],
   "source": [
    "gamma_function([1, 1.5, 2, 2.5, 3, 4])"
   ]
  },
  {
   "cell_type": "code",
   "execution_count": 18,
   "metadata": {},
   "outputs": [
    {
     "data": {
      "text/plain": [
       "array([8.84176199e+30])"
      ]
     },
     "execution_count": 18,
     "metadata": {},
     "output_type": "execute_result"
    }
   ],
   "source": [
    "gamma_function(30.0)"
   ]
  },
  {
   "cell_type": "markdown",
   "metadata": {},
   "source": [
    "`acsefunctions.bessel_group.bessel_function.bessel(alpha, x, terms=50)`"
   ]
  },
  {
   "cell_type": "code",
   "execution_count": 45,
   "metadata": {},
   "outputs": [],
   "source": [
    "from acsefunctions.bessel_group.bessel_function import bessel"
   ]
  },
  {
   "cell_type": "code",
   "execution_count": 46,
   "metadata": {},
   "outputs": [
    {
     "data": {
      "text/plain": [
       "array([ 0.        ,  0.4404682 ,  0.57755987,  0.34031109, -0.06437481,\n",
       "       -0.32549533])"
      ]
     },
     "execution_count": 46,
     "metadata": {},
     "output_type": "execute_result"
    }
   ],
   "source": [
    "bessel(1,[0, 1, 2, 3, 4, 5])"
   ]
  },
  {
   "cell_type": "markdown",
   "metadata": {},
   "source": [
    "## Comparing Function Execution Times - acsefunctions vs NumPy & SciPy"
   ]
  },
  {
   "cell_type": "code",
   "execution_count": 43,
   "metadata": {},
   "outputs": [],
   "source": [
    "#Importing required libraries\n",
    "import numpy as np\n",
    "import pandas as pd\n",
    "import time\n",
    "import matplotlib.pyplot as plt\n",
    "from scipy.special import jv as scipy_bessel"
   ]
  },
  {
   "cell_type": "code",
   "execution_count": 58,
   "metadata": {},
   "outputs": [],
   "source": [
    "#Test values\n",
    "x_values = np.linspace(-5, 5, 100)\n",
    "truncation_levels = [5, 10, 15, 20, 25,30]\n",
    "results = []\n",
    "\n",
    "# Timing and Error Analysis\n",
    "for terms in truncation_levels:\n",
    "    approx_sinh = sinh(x_values, terms)\n",
    "    approx_cosh = cosh(x_values, terms)\n",
    "    approx_tanh = tanh(x_values, terms)\n",
    "    approx_bessel = bessel(1,x_values, terms)\n",
    "\n",
    "    exact_sinh = np.sinh(x_values)\n",
    "    exact_cosh = np.cosh(x_values)\n",
    "    exact_tanh = np.tanh(x_values)\n",
    "    exact_bessel = scipy_bessel(x_values,terms)\n",
    "    \n",
    "\n",
    "    error_sinh = np.abs(approx_sinh - exact_sinh)\n",
    "    error_cosh = np.abs(approx_cosh - exact_cosh)\n",
    "    error_tanh = np.abs(approx_tanh - exact_tanh)\n",
    "    error_bessel = np.abs(approx_bessel - exact_bessel)\n",
    "\n",
    "    # Store results\n",
    "    results.append({\n",
    "        'Truncation Level': terms,\n",
    "        'Max Error sinh': np.max(error_sinh),\n",
    "        'Max Error cosh': np.max(error_cosh),\n",
    "        'Max Error tanh': np.max(error_tanh),\n",
    "        'Max Error bessel': np.max(error_bessel) })"
   ]
  },
  {
   "cell_type": "code",
   "execution_count": 59,
   "metadata": {},
   "outputs": [],
   "source": [
    "results = pd.DataFrame(results)"
   ]
  },
  {
   "cell_type": "code",
   "execution_count": 63,
   "metadata": {},
   "outputs": [
    {
     "data": {
      "image/png": "[encoded data removed]",
      "text/plain": [
       "<Figure size 1200x600 with 1 Axes>"
      ]
     },
     "metadata": {},
     "output_type": "display_data"
    }
   ],
   "source": [
    "plt.figure(figsize=(12, 6))\n",
    "plt.plot(results['Truncation Level'], results['Max Error sinh'], label='sinh', marker='o')\n",
    "plt.plot(results['Truncation Level'], results['Max Error cosh'], label='cosh', marker='o')\n",
    "plt.plot(results['Truncation Level'], results['Max Error tanh'], label='tanh', marker='o')\n",
    "plt.plot(results['Truncation Level'], results['Max Error bessel'], label='bessel', marker='o')\n",
    "plt.yscale('log')  # Log scale for better visualization of errors\n",
    "plt.xlabel('Truncation Level')\n",
    "plt.ylabel('Maximum Error (Log Scale)')\n",
    "plt.title('Max Error vs. Truncation Level for ascefunctions')\n",
    "plt.legend()\n",
    "plt.grid(True)\n",
    "plt.show()"
   ]
  },
  {
   "cell_type": "markdown",
   "metadata": {},
   "source": [
    "### Discussion of Results"
   ]
  },
  {
   "cell_type": "markdown",
   "metadata": {},
   "source": [
    "**Taylor Series for Hyperbolic Functions (sinh, cosh, tanh)**\n",
    "The Taylor series for hyperbolic functions are well-suited for calculating these functions due to their structure. The key feature of these series is that they are polynomial approximations, and polynomials tend to converge quickly near the point of expansion (which is typically x=0 for these series).\n",
    "\n",
    "**Bessel Function: Euler's Integral Approximation**\n",
    "The custom Bessel function is calculated using a series representation involving the Gamma function, which is itself calculated via Euler's integral definition. This series involves both factorials and the Gamma function, making it more complex than the hyperbolic functions. Compared to the hyperbolic functions, the error for the Bessel function decreases more gradually. This slow convergence is due to the more complex nature of the Bessel function, which involves higher-order terms and relies on factorial and gamma function computations."
   ]
  },
  {
   "cell_type": "markdown",
   "metadata": {},
   "source": [
    "####  How the Taylor Series Method Affects Accuracy:\n",
    "\n",
    "\n",
    "**Near the Origin:**\n",
    "The Taylor series expansions are centered at `x=0` and have very fast convergence for small values of `x` which explains why, by truncation level 10, the error is already quite small. For larger `x` the Taylor series still converges, but more terms are required to maintain the same accuracy. However, since hyperbolic functions grow exponentially, approximating them with polynomial terms quickly becomes very efficient as long as enough terms are included.\n",
    "\n",
    "**Exponential Growth:**\n",
    "Because sinh(x) and cosh(x) are defined in terms of exponential functions `e^x` and `e^-x`, their Taylor series approximations mimic this exponential growth. This means that the series can quickly approximate the true value for positive x once enough terms are included, which is why errors drop so rapidly by truncation level 10 and beyond."
   ]
  },
  {
   "cell_type": "markdown",
   "metadata": {},
   "source": [
    "#### How Euler's Integral Affects Accuracy:\n",
    "\n",
    "**Integral Approximation**\n",
    "Euler's integral is an accurate definition for the Gamma function, but numerical integration methods (like the trapezoidal rule introduced in the code) introduce some level of approximation error. This affects the accuracy of the Bessel function.\n",
    "\n",
    "**Higher Terms and Factorials**\n",
    "The series involves both factorials and powers of `x` and as these terms get larger, small inaccuracies in earlier terms compound. This is why the error for the Bessel function remains relatively large compared to the hyperbolic functions, which do not involve such complex term structures.\n",
    "\n",
    "The Bessel series involves alternating terms and powers of `x/2` which behave differently from the polynomial terms in the Taylor series for hyperbolic functions. This difference in behavior explains why the Bessel function takes more terms to approximate accurately.\n"
   ]
  },
  {
   "cell_type": "markdown",
   "metadata": {},
   "source": [
    " **Key Takeaways**\n",
    " - As shown in the graph, the hyperbolic functions (sinh, cosh, tanh) converge more rapidly after about 20 terms, with errors stabilizing near zero. While adding more terms increases accuracy, it also increases computation time. After truncation level 20, the error remains around `10^-14` for sinh, cosh, and tanh. This indicates that any remaining error is mostly due to the limitations of floating-point precision in numerical computations rather than the accuracy of the series itself.\n",
    " \n",
    " So, for practical purposes, a truncation level of around 15 to 20 may provide the best balance between accuracy and speed.\n",
    "\n",
    " - Bessel function: While the error decreases as the truncation level increases, the convergence is slower, indicating that Bessel functions require either more terms or more sophisticated methods for higher accuracy. This is expected because Bessel functions have more complex behavior than hyperbolic functions.\n",
    " \n",
    " - Floating-point Precision: Beyond truncation level 20, the errors for hyperbolic functions reach the limits of floating-point precision, so further terms do not meaningfully reduce the error."
   ]
  },
  {
   "cell_type": "markdown",
   "metadata": {},
   "source": [
    "### Summary"
   ]
  },
  {
   "cell_type": "code",
   "execution_count": 60,
   "metadata": {},
   "outputs": [],
   "source": [
    "pd.set_option('display.float_format', '{:.12e}'.format)"
   ]
  },
  {
   "cell_type": "code",
   "execution_count": 61,
   "metadata": {},
   "outputs": [
    {
     "data": {
      "text/html": [
       "<div>\n",
       "<style scoped>\n",
       "    .dataframe tbody tr th:only-of-type {\n",
       "        vertical-align: middle;\n",
       "    }\n",
       "\n",
       "    .dataframe tbody tr th {\n",
       "        vertical-align: top;\n",
       "    }\n",
       "\n",
       "    .dataframe thead th {\n",
       "        text-align: right;\n",
       "    }\n",
       "</style>\n",
       "<table border=\"1\" class=\"dataframe\">\n",
       "  <thead>\n",
       "    <tr style=\"text-align: right;\">\n",
       "      <th></th>\n",
       "      <th>Truncation Level</th>\n",
       "      <th>Max Error sinh</th>\n",
       "      <th>Max Error cosh</th>\n",
       "      <th>Max Error tanh</th>\n",
       "      <th>Max Error bessel</th>\n",
       "    </tr>\n",
       "  </thead>\n",
       "  <tbody>\n",
       "    <tr>\n",
       "      <th>0</th>\n",
       "      <td>5</td>\n",
       "      <td>6.827218514297e+00</td>\n",
       "      <td>3.278772929550e+00</td>\n",
       "      <td>5.003079751002e-02</td>\n",
       "      <td>8.884653787547e-01</td>\n",
       "    </tr>\n",
       "    <tr>\n",
       "      <th>1</th>\n",
       "      <td>10</td>\n",
       "      <td>1.666103206617e-04</td>\n",
       "      <td>4.142009157704e-05</td>\n",
       "      <td>1.687025287356e-06</td>\n",
       "      <td>8.331886202814e-01</td>\n",
       "    </tr>\n",
       "    <tr>\n",
       "      <th>2</th>\n",
       "      <td>15</td>\n",
       "      <td>2.162892087654e-11</td>\n",
       "      <td>3.595346242946e-12</td>\n",
       "      <td>2.431388423929e-13</td>\n",
       "      <td>6.815600864420e-01</td>\n",
       "    </tr>\n",
       "    <tr>\n",
       "      <th>3</th>\n",
       "      <td>20</td>\n",
       "      <td>2.131628207280e-14</td>\n",
       "      <td>1.421085471520e-14</td>\n",
       "      <td>4.440892098501e-16</td>\n",
       "      <td>7.397539032050e-01</td>\n",
       "    </tr>\n",
       "    <tr>\n",
       "      <th>4</th>\n",
       "      <td>25</td>\n",
       "      <td>2.131628207280e-14</td>\n",
       "      <td>1.421085471520e-14</td>\n",
       "      <td>4.440892098501e-16</td>\n",
       "      <td>7.266741833430e-01</td>\n",
       "    </tr>\n",
       "    <tr>\n",
       "      <th>5</th>\n",
       "      <td>30</td>\n",
       "      <td>2.131628207280e-14</td>\n",
       "      <td>1.421085471520e-14</td>\n",
       "      <td>4.440892098501e-16</td>\n",
       "      <td>7.069958620473e-01</td>\n",
       "    </tr>\n",
       "  </tbody>\n",
       "</table>\n",
       "</div>"
      ],
      "text/plain": [
       "   Truncation Level     Max Error sinh     Max Error cosh     Max Error tanh  \\\n",
       "0                 5 6.827218514297e+00 3.278772929550e+00 5.003079751002e-02   \n",
       "1                10 1.666103206617e-04 4.142009157704e-05 1.687025287356e-06   \n",
       "2                15 2.162892087654e-11 3.595346242946e-12 2.431388423929e-13   \n",
       "3                20 2.131628207280e-14 1.421085471520e-14 4.440892098501e-16   \n",
       "4                25 2.131628207280e-14 1.421085471520e-14 4.440892098501e-16   \n",
       "5                30 2.131628207280e-14 1.421085471520e-14 4.440892098501e-16   \n",
       "\n",
       "    Max Error bessel  \n",
       "0 8.884653787547e-01  \n",
       "1 8.331886202814e-01  \n",
       "2 6.815600864420e-01  \n",
       "3 7.397539032050e-01  \n",
       "4 7.266741833430e-01  \n",
       "5 7.069958620473e-01  "
      ]
     },
     "metadata": {},
     "output_type": "display_data"
    }
   ],
   "source": [
    "display(results)"
   ]
  }
 ],
 "metadata": {
  "kernelspec": {
   "display_name": "base",
   "language": "python",
   "name": "python3"
  },
  "language_info": {
   "codemirror_mode": {
    "name": "ipython",
    "version": 3
   },
   "file_extension": ".py",
   "mimetype": "text/x-python",
   "name": "python",
   "nbconvert_exporter": "python",
   "pygments_lexer": "ipython3",
   "version": "3.12.2"
  }
 },
 "nbformat": 4,
 "nbformat_minor": 2
}
